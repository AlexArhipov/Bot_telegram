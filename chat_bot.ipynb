{
  "nbformat": 4,
  "nbformat_minor": 0,
  "metadata": {
    "colab": {
      "name": "chat-bot.ipynb",
      "provenance": []
    },
    "kernelspec": {
      "name": "python3",
      "display_name": "Python 3"
    },
    "language_info": {
      "name": "python"
    }
  },
  "cells": [
    {
      "cell_type": "code",
      "metadata": {
        "id": "X2SrNvwd6KIs"
      },
      "source": [
        "import random\n",
        "import nltk\n",
        "import json\n",
        "from sklearn.linear_model import LogisticRegression\n",
        "from sklearn.feature_extraction.text import CountVectorizer\n",
        "from sklearn.model_selection import train_test_split\n",
        "\n",
        "import logging\n",
        "\n",
        "from telegram import Update, ForceReply\n",
        "from telegram.ext import Updater, CommandHandler, MessageHandler, Filters, CallbackContext"
      ],
      "execution_count": null,
      "outputs": []
    },
    {
      "cell_type": "code",
      "metadata": {
        "id": "az0Jx6PYiGxM"
      },
      "source": [
        "!pip install python-telegram-bot --upgrade"
      ],
      "execution_count": null,
      "outputs": []
    },
    {
      "cell_type": "code",
      "metadata": {
        "id": "AtclAmy044k7"
      },
      "source": [
        "    with open('/content/BOT_CONFIG.json', 'r') as f:\n",
        "  BOT_CONFIG = json.load(f)"
      ],
      "execution_count": null,
      "outputs": []
    },
    {
      "cell_type": "markdown",
      "metadata": {
        "id": "amoMZFSINfnl"
      },
      "source": [
        "## День 2"
      ]
    },
    {
      "cell_type": "code",
      "metadata": {
        "id": "zDRjb6E353SS"
      },
      "source": [
        "X = []\n",
        "Y = []\n",
        "for intent in BOT_CONFIG['intents'].keys(): # сборка текстов и интентов\n",
        "    try: # отсев не валидных данных из файла\n",
        "      if intent != 'other':\n",
        "        for example in BOT_CONFIG['intents'][intent]['examples']:\n",
        "            X.append(example)\n",
        "            Y.append(intent)\n",
        "    except: # вывод данных с ошибками\n",
        "      ;"
      ],
      "execution_count": null,
      "outputs": []
    },
    {
      "cell_type": "code",
      "metadata": {
        "colab": {
          "base_uri": "https://localhost:8080/"
        },
        "id": "GVp2gdrgWirQ",
        "outputId": "16668ada-ced6-4d7e-bd62-cca7f0d4d0d8"
      },
      "source": [
        "len(X), len(Y) # сверка, что для каждого текста есть интент"
      ],
      "execution_count": null,
      "outputs": [
        {
          "output_type": "execute_result",
          "data": {
            "text/plain": [
              "(1173, 1173)"
            ]
          },
          "metadata": {
            "tags": []
          },
          "execution_count": 38
        }
      ]
    },
    {
      "cell_type": "code",
      "metadata": {
        "id": "-fDe7HuMWpXo"
      },
      "source": [
        "X_train, X_test, y_train, y_test = train_test_split( # разбивка датасета на тестовый и для обучения\n",
        "    X, Y, test_size=0.2, random_state=42)"
      ],
      "execution_count": null,
      "outputs": []
    },
    {
      "cell_type": "code",
      "metadata": {
        "colab": {
          "base_uri": "https://localhost:8080/"
        },
        "id": "lDPkVXP1XBYb",
        "outputId": "3c3bd2ca-dfd6-404a-d4c1-a975b1603082"
      },
      "source": [
        "vectorizer = CountVectorizer(ngram_range=(2, 6), analyzer='char_wb') # определение параметров для векторизации\n",
        "X_train_vectorized = vectorizer.fit_transform(X_train) # веторизация датасета для обучения\n",
        "X_test_vectorized = vectorizer.transform(X_test) # векторизация датасета для теста\n",
        "len(vectorizer.get_feature_names()) # размер словаря для обучения"
      ],
      "execution_count": null,
      "outputs": [
        {
          "output_type": "execute_result",
          "data": {
            "text/plain": [
              "11842"
            ]
          },
          "metadata": {
            "tags": []
          },
          "execution_count": 41
        }
      ]
    },
    {
      "cell_type": "code",
      "metadata": {
        "colab": {
          "base_uri": "https://localhost:8080/"
        },
        "id": "B4ykuAV7XKRk",
        "outputId": "bff618c5-cda5-432b-9a31-d5163c9d4110"
      },
      "source": [
        "clf = LogisticRegression().fit(X_train_vectorized, y_train) # обучение модели на основе логистической регрессии"
      ],
      "execution_count": null,
      "outputs": [
        {
          "output_type": "stream",
          "text": [
            "/usr/local/lib/python3.7/dist-packages/sklearn/linear_model/_logistic.py:940: ConvergenceWarning: lbfgs failed to converge (status=1):\n",
            "STOP: TOTAL NO. of ITERATIONS REACHED LIMIT.\n",
            "\n",
            "Increase the number of iterations (max_iter) or scale the data as shown in:\n",
            "    https://scikit-learn.org/stable/modules/preprocessing.html\n",
            "Please also refer to the documentation for alternative solver options:\n",
            "    https://scikit-learn.org/stable/modules/linear_model.html#logistic-regression\n",
            "  extra_warning_msg=_LOGISTIC_SOLVER_CONVERGENCE_MSG)\n"
          ],
          "name": "stderr"
        }
      ]
    },
    {
      "cell_type": "code",
      "metadata": {
        "colab": {
          "base_uri": "https://localhost:8080/"
        },
        "id": "1G7x_eZ0XV48",
        "outputId": "62f41444-099d-459a-f45a-ff27c92ae4c3"
      },
      "source": [
        "clf.score(X_train_vectorized, y_train)"
      ],
      "execution_count": null,
      "outputs": [
        {
          "output_type": "execute_result",
          "data": {
            "text/plain": [
              "0.8486140724946695"
            ]
          },
          "metadata": {
            "tags": []
          },
          "execution_count": 43
        }
      ]
    },
    {
      "cell_type": "code",
      "metadata": {
        "colab": {
          "base_uri": "https://localhost:8080/"
        },
        "id": "wEfI1yGbXZOe",
        "outputId": "596caf67-90e9-4d36-c422-a3c00f946863"
      },
      "source": [
        "clf.score(X_test_vectorized, y_test)"
      ],
      "execution_count": null,
      "outputs": [
        {
          "output_type": "execute_result",
          "data": {
            "text/plain": [
              "0.26382978723404255"
            ]
          },
          "metadata": {
            "tags": []
          },
          "execution_count": 44
        }
      ]
    },
    {
      "cell_type": "code",
      "metadata": {
        "id": "0I8M_rXFBCtZ"
      },
      "source": [
        "def get_intents_by_model(text):\n",
        "  return clf.predict(vectorizer.transform([text]))[0]"
      ],
      "execution_count": null,
      "outputs": []
    },
    {
      "cell_type": "code",
      "metadata": {
        "id": "f7pQ1otBBfmW"
      },
      "source": [
        "def bot_response(text): # возвращает ответ бота на взодящий запрос\n",
        "  intent = get_intents_by_model(text) # получение от модели интента\n",
        "  return random.choice(BOT_CONFIG['intents'][intent]['responces']) # возврат случайного ответа из вариантов для указанного интента"
      ],
      "execution_count": null,
      "outputs": []
    },
    {
      "cell_type": "code",
      "metadata": {
        "id": "La3EAGHX3bYr"
      },
      "source": [
        "# Enable logging\n",
        "logging.basicConfig(\n",
        "    format='%(asctime)s - %(name)s - %(levelname)s - %(message)s', level=logging.INFO\n",
        ")\n",
        "\n",
        "logger = logging.getLogger(__name__)\n",
        "\n",
        "\n",
        "# Define a few command handlers. These usually take the two arguments update and\n",
        "# context.\n",
        "def start(update: Update, context: CallbackContext) -> None:\n",
        "    \"\"\"Send a message when the command /start is issued.\"\"\"\n",
        "    user = update.effective_user\n",
        "    update.message.reply_markdown_v2(\n",
        "        fr'Hi {user.mention_markdown_v2()}\\!',\n",
        "        reply_markup=ForceReply(selective=True),\n",
        "    )\n",
        "\n",
        "\n",
        "def help_command(update: Update, context: CallbackContext) -> None:\n",
        "    \"\"\"Send a message when the command /help is issued.\"\"\"\n",
        "    update.message.reply_text('Help!')\n",
        "\n",
        "\n",
        "def echo(update: Update, context: CallbackContext) -> None:\n",
        "    \"\"\"Echo the user message.\"\"\"\n",
        "    update.message.reply_text(bot_response(update.message.text))\n",
        "\n",
        "\n",
        "def main() -> None:\n",
        "    \"\"\"Start the bot.\"\"\"\n",
        "    # Create the Updater and pass it your bot's token.\n",
        "    updater = Updater(\"1904862824:AAE1dgD3cddICt7oVNDwFVtQ9IG_0x0k9aE\")\n",
        "\n",
        "    # Get the dispatcher to register handlers\n",
        "    dispatcher = updater.dispatcher\n",
        "\n",
        "    # on different commands - answer in Telegram\n",
        "    dispatcher.add_handler(CommandHandler(\"start\", start))\n",
        "    dispatcher.add_handler(CommandHandler(\"help\", help_command))\n",
        "\n",
        "    # on non command i.e message - echo the message on Telegram\n",
        "    dispatcher.add_handler(MessageHandler(Filters.text & ~Filters.command, echo))\n",
        "\n",
        "    # Start the Bot\n",
        "    updater.start_polling()\n",
        "\n",
        "    # Run the bot until you press Ctrl-C or the process receives SIGINT,\n",
        "    # SIGTERM or SIGABRT. This should be used most of the time, since\n",
        "    # start_polling() is non-blocking and will stop the bot gracefully.\n",
        "    updater.idle()\n"
      ],
      "execution_count": null,
      "outputs": []
    },
    {
      "cell_type": "code",
      "metadata": {
        "colab": {
          "base_uri": "https://localhost:8080/"
        },
        "id": "UsTkPq7Bm3vQ",
        "outputId": "ab19bb36-7d8a-413b-b90a-efad2898c13e"
      },
      "source": [
        "main()"
      ],
      "execution_count": null,
      "outputs": [
        {
          "output_type": "stream",
          "text": [
            "2021-08-12 13:44:37,524 - apscheduler.scheduler - INFO - Scheduler started\n",
            "2021-08-12 13:49:33,986 - telegram.ext.dispatcher - ERROR - No error handlers are registered, logging exception.\n",
            "Traceback (most recent call last):\n",
            "  File \"/usr/local/lib/python3.7/dist-packages/telegram/ext/dispatcher.py\", line 555, in process_update\n",
            "    handler.handle_update(update, self, check, context)\n",
            "  File \"/usr/local/lib/python3.7/dist-packages/telegram/ext/handler.py\", line 198, in handle_update\n",
            "    return self.callback(update, context)\n",
            "  File \"<ipython-input-31-77c2e036b80e>\", line 27, in echo\n",
            "    update.message.reply_text(bot_response(update.message.text))\n",
            "  File \"<ipython-input-26-508329a80179>\", line 3, in bot_response\n",
            "    return random.choice(BOT_CONFIG['intents'][intent]['responces']) # возврат случайного ответа из вариантов для указанного интента\n",
            "KeyError: 'responces'\n",
            "2021-08-12 13:49:51,207 - telegram.ext.dispatcher - ERROR - No error handlers are registered, logging exception.\n",
            "Traceback (most recent call last):\n",
            "  File \"/usr/local/lib/python3.7/dist-packages/telegram/ext/dispatcher.py\", line 555, in process_update\n",
            "    handler.handle_update(update, self, check, context)\n",
            "  File \"/usr/local/lib/python3.7/dist-packages/telegram/ext/handler.py\", line 198, in handle_update\n",
            "    return self.callback(update, context)\n",
            "  File \"<ipython-input-31-77c2e036b80e>\", line 27, in echo\n",
            "    update.message.reply_text(bot_response(update.message.text))\n",
            "  File \"<ipython-input-26-508329a80179>\", line 3, in bot_response\n",
            "    return random.choice(BOT_CONFIG['intents'][intent]['responces']) # возврат случайного ответа из вариантов для указанного интента\n",
            "KeyError: 'responces'\n",
            "2021-08-12 14:01:36,056 - telegram.ext.updater - INFO - Received signal 2 (SIGINT), stopping...\n",
            "2021-08-12 14:01:36,061 - apscheduler.scheduler - INFO - Scheduler has been shut down\n"
          ],
          "name": "stderr"
        }
      ]
    }
  ]
}